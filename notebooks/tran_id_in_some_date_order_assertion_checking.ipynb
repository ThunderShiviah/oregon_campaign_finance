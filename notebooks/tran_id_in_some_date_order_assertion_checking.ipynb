{
 "cells": [
  {
   "cell_type": "markdown",
   "metadata": {},
   "source": [
    "# Assertion Checking for Transaction ID order"
   ]
  },
  {
   "cell_type": "markdown",
   "metadata": {},
   "source": [
    "This notebook will check an ORESTAR-exported Excel transaction file to make sure that the transaction IDs are assigned in order of some date stored with the transaction.  So far, no such date has been found, but this is a WIP."
   ]
  },
  {
   "cell_type": "code",
   "execution_count": 18,
   "metadata": {
    "collapsed": true
   },
   "outputs": [],
   "source": [
    "import pandas as pd\n",
    "import numpy as np"
   ]
  },
  {
   "cell_type": "markdown",
   "metadata": {},
   "source": [
    "Set `DATA_FILE` (below) to the path of the ORESTAR-provided Excel file you want to check.\n",
    "\n",
    "Set `DATE_TO_TRY` to the (unicode) string name of the date column to check."
   ]
  },
  {
   "cell_type": "code",
   "execution_count": 106,
   "metadata": {
    "collapsed": false
   },
   "outputs": [],
   "source": [
    "DATA_FILE = '../data/negatives.xlsx'\n",
    "DATE_TO_TRY = u'Filed Date'\n",
    "KEEP_ID = u'Original Id'\n",
    "\n",
    "# Read the data file, convert it, and cherry pick the \n",
    "# potentially relevant columns.\n",
    "df = pd.read_excel(\n",
    "    DATA_FILE,\n",
    "#     verbose=True,\n",
    ").loc[:,[u'Tran Id',\n",
    "         u'Original Id',\n",
    "         u'Tran Date',\n",
    "         u'Attest Date',\n",
    "         u'Review Date',\n",
    "         u'Due Date',\n",
    "         u'Occptn Ltr Date',\n",
    "         u'Filed Date',\n",
    "         u'Exp Date']]\n",
    "\n",
    "# brevity is boss\n",
    "df = df.loc[:,[KEEP_ID, DATE_TO_TRY]]\n",
    "df.rename(columns={KEEP_ID: 'id', DATE_TO_TRY: 'date'},\n",
    "          inplace=True)\n",
    "\n",
    "df.date = pd.to_datetime(df.date)\n",
    "df = df.sort('date')\n",
    "\n",
    "if sum(df.date.isnull()):\n",
    "    raise Exception(\"Some of the {} values are null.\".format(\n",
    "            repr(DATE_TO_TRY)))\n",
    "\n",
    "if sum(df.id.isnull()):\n",
    "    raise Exception(\"Some of the {} values are null.\".format(\n",
    "            repr(KEEP_ID)))\n"
   ]
  },
  {
   "cell_type": "code",
   "execution_count": 107,
   "metadata": {
    "collapsed": false
   },
   "outputs": [],
   "source": [
    "max_ids = df[df.id == df.groupby('date')['id'].transform(max)]\n",
    "max_ids.columns = ['max_id', 'date']\n",
    "\n",
    "min_ids = df[df.id == df.groupby('date')['id'].transform(min)]\n",
    "min_ids.columns = ['min_id', 'date']\n",
    "\n",
    "min_max = min_ids.merge(max_ids, on='date', how='outer').sort('date')"
   ]
  },
  {
   "cell_type": "code",
   "execution_count": 108,
   "metadata": {
    "collapsed": false
   },
   "outputs": [],
   "source": [
    "if any((\n",
    "    min_max.date.isnull().any(),\n",
    "    min_max.max_id.isnull().any(),\n",
    "    min_max.min_id.isnull().any(),\n",
    ")):\n",
    "    print sum(list(min_max.date.isnull()))\n",
    "    print sum(list(min_max.max_id.isnull()))\n",
    "    print sum(list(min_max.min_id.isnull()))\n",
    "    raise Exception(\"I see null values where I shouldn't.\")"
   ]
  },
  {
   "cell_type": "markdown",
   "metadata": {},
   "source": [
    "## Ignore the warning that appears in red below the following cell"
   ]
  },
  {
   "cell_type": "code",
   "execution_count": 109,
   "metadata": {
    "collapsed": false
   },
   "outputs": [],
   "source": [
    "min_max['next_min'] = min_max.min_id.shift(-1)\n",
    "min_max = min_max[:-1]\n",
    "min_max['valid'] = min_max.max_id < min_max.next_min"
   ]
  },
  {
   "cell_type": "code",
   "execution_count": 110,
   "metadata": {
    "collapsed": false
   },
   "outputs": [
    {
     "name": "stdout",
     "output_type": "stream",
     "text": [
      "In 28/331 cases, u'Filed Date' does NOT follow the order of\n",
      "u'Original Id' These are indicated with valid=False.\n",
      "\n",
      "\n",
      "      min_id       date   max_id  next_min  valid\n",
      "0        198 2007-01-11      198      2280   True\n",
      "1       2280 2007-01-15     2280      2770   True\n",
      "2       2770 2007-01-22     2770      4923   True\n",
      "3       4923 2007-01-24     4923      5469   True\n",
      "4       5469 2007-01-25     5609      7209   True\n",
      "5       7209 2007-01-27     7582      7949   True\n",
      "6       7949 2007-01-28     7949      6202  False\n",
      "7       6202 2007-01-29     8385      6351  False\n",
      "8       6351 2007-01-30    12343      6769  False\n",
      "9       6769 2007-01-31    15081     15366   True\n",
      "10     15366 2007-02-01    15422     18314   True\n",
      "11     18314 2007-02-02    18320      9262  False\n",
      "12      9262 2007-02-03     9262       740  False\n",
      "13       740 2007-02-05    19392      1909  False\n",
      "14      1909 2007-02-07    22355      6079  False\n",
      "15      6079 2007-02-12     6079     12733   True\n",
      "16     12733 2007-02-14    12733      1908  False\n",
      "17      1908 2007-02-16     1908     29666   True\n",
      "18     29666 2007-02-27    29670     10367  False\n",
      "19     10367 2007-03-01    10367     33700   True\n",
      "20     33700 2007-03-09    33700     14829  False\n",
      "21     14829 2007-03-29    40378     43523   True\n",
      "22     43523 2007-04-09    43523     44701   True\n",
      "23     44701 2007-04-11    44701     45827   True\n",
      "24     45827 2007-04-13    45827     54147   True\n",
      "25     54147 2007-05-07    54147     62261   True\n",
      "26     62261 2007-06-01    62261     63899   True\n",
      "27     63899 2007-06-07    64017     66241   True\n",
      "28     66241 2007-06-18    66241     66187  False\n",
      "29     66187 2007-06-19    66187      2330  False\n",
      "..       ...        ...      ...       ...    ...\n",
      "301  1947487 2014-12-18  1947487   1954581   True\n",
      "302  1954581 2014-12-31  1954581   1961039   True\n",
      "303  1961039 2015-01-06  1961039   1970227   True\n",
      "304  1970227 2015-01-16  1970227   1972568   True\n",
      "305  1972568 2015-01-20  1972568   1927638  False\n",
      "306  1927638 2015-01-21  1927638   1974399   True\n",
      "307  1974399 2015-01-23  1974399   1974873   True\n",
      "308  1974873 2015-01-26  1974873   1980462   True\n",
      "309  1980462 2015-02-09  1980462   1982127   True\n",
      "310  1982127 2015-02-12  1982127   1983791   True\n",
      "311  1983791 2015-02-17  1983791   1984475   True\n",
      "312  1984475 2015-02-19  1984475   1989515   True\n",
      "313  1989515 2015-03-04  1989515   1989691   True\n",
      "314  1989691 2015-03-05  1989691   1980386  False\n",
      "315  1980386 2015-03-08  1980386   1995374   True\n",
      "316  1995374 2015-03-21  1995374   1998537   True\n",
      "317  1998537 2015-04-01  1998537   2001453   True\n",
      "318  2001453 2015-04-08  2001453   2003159   True\n",
      "319  2003159 2015-04-13  2003159   2005557   True\n",
      "320  2005557 2015-04-18  2005557   2007479   True\n",
      "321  2007479 2015-04-23  2007479   2016371   True\n",
      "322  2016371 2015-05-13  2016371   2019244   True\n",
      "323  2019244 2015-05-19  2019244   2021293   True\n",
      "324  2021293 2015-05-23  2021293   2029866   True\n",
      "325  2029866 2015-06-15  2029866   2031808   True\n",
      "326  2031808 2015-06-19  2031808   2032358   True\n",
      "327  2032358 2015-06-21  2032358   2032932   True\n",
      "328  2032932 2015-06-23  2032932   2034962   True\n",
      "329  2034962 2015-06-29  2034962   2036527   True\n",
      "330  2036527 2015-07-02  2036527   2029219  False\n",
      "\n",
      "[331 rows x 5 columns]\n"
     ]
    }
   ],
   "source": [
    "mm_truths = min_max.valid.tolist()\n",
    "if all(mm_truths):\n",
    "    print \"{} seems to follow the order of {}.\".format(\n",
    "    repr(DATE_TO_TRY), repr(KEEP_ID))\n",
    "else:\n",
    "    print (\"In {}/{} cases, {} does NOT follow the order of\\n\" +\n",
    "    \"{} These are indicated with valid=False.\\n\\n\").format(\n",
    "        len(mm_truths) - sum(mm_truths),\n",
    "        len(mm_truths),\n",
    "        repr(DATE_TO_TRY),\n",
    "        repr(KEEP_ID),\n",
    "    )\n",
    "\n",
    "    print min_max"
   ]
  },
  {
   "cell_type": "code",
   "execution_count": null,
   "metadata": {
    "collapsed": true
   },
   "outputs": [],
   "source": []
  },
  {
   "cell_type": "code",
   "execution_count": null,
   "metadata": {
    "collapsed": true
   },
   "outputs": [],
   "source": []
  }
 ],
 "metadata": {
  "kernelspec": {
   "display_name": "Python 2",
   "language": "python",
   "name": "python2"
  },
  "language_info": {
   "codemirror_mode": {
    "name": "ipython",
    "version": 2
   },
   "file_extension": ".py",
   "mimetype": "text/x-python",
   "name": "python",
   "nbconvert_exporter": "python",
   "pygments_lexer": "ipython2",
   "version": "2.7.9"
  }
 },
 "nbformat": 4,
 "nbformat_minor": 0
}
