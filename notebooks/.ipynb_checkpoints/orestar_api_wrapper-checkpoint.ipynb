{
 "cells": [
  {
   "cell_type": "code",
   "execution_count": 3,
   "metadata": {
    "collapsed": false
   },
   "outputs": [],
   "source": [
    "import requests\n",
    "\n",
    "\n",
    "# Multiple strings are concatenated at compile time. See \n",
    "# https://docs.python.org/3/reference/lexical_analysis.html#string-literal-concatenation\n",
    "website_base = ('https://secure.sos.state.or.us/orestar/gotoPublicTransactionSearchResults.do'\n",
    "'?cneSearchButtonName=search&cneSearchPageIdx=0&cneSearchContributorTypeName=&cneSearchTranTypeName=&'\n",
    "'cneSearchTranSubTypeName=&cneSearchTranPurposeName=&cneSearchFilerCommitteeId=*&cneSearchFilerCommitteeTxt=&'\n",
    "'cneSearchFilerCommitteeTxtSearchType=C&cneSearchTranStartDate=&cneSearchTranEndDate=&cneSearchTranFiledStartDate=&'\n",
    "'cneSearchTranFiledEndDate=&transactionId=&cneSearchTranType=&cneSearchTranAmountFrom=&cneSearchTranAmountTo=&'\n",
    "'cneSearchContributorTxt=&cneSearchContributorTxtSearchType=C&cneSearchContributorType=&addressLine1=&city=&state=&'\n",
    "'zip=&zipPlusFour=&occupation=&employer=&employerCity=&employerState=')"
   ]
  },
  {
   "cell_type": "code",
   "execution_count": 5,
   "metadata": {
    "collapsed": false
   },
   "outputs": [
    {
     "data": {
      "text/plain": [
       "str"
      ]
     },
     "execution_count": 5,
     "metadata": {},
     "output_type": "execute_result"
    }
   ],
   "source": []
  },
  {
   "cell_type": "code",
   "execution_count": null,
   "metadata": {
    "collapsed": true
   },
   "outputs": [],
   "source": []
  }
 ],
 "metadata": {
  "language_info": {
   "codemirror_mode": {
    "name": "ipython",
    "version": 3
   },
   "file_extension": ".py",
   "mimetype": "text/x-python",
   "name": "python",
   "nbconvert_exporter": "python",
   "pygments_lexer": "ipython3",
   "version": "3.3.1"
  }
 },
 "nbformat": 4,
 "nbformat_minor": 0
}
