{
 "cells": [
  {
   "cell_type": "markdown",
   "metadata": {},
   "source": [
    "#### Potentially relevant links\n",
    "https://github.com/openelections/openelections-data-or\n",
    "https://source.opennews.org/en-US/articles/introducing-bedfellows/\n",
    "http://www.informationweek.com/government/cloud-computing/georgia-solves-campaign-finance-data-challenge-via-ocr/d/d-id/1204471\n",
    "https://www.kaggle.com/c/cir-prospect\n",
    "http://ieeexplore.ieee.org/xpl/login.jsp?tp=&arnumber=6406640&url=http%3A%2F%2Fieeexplore.ieee.org%2Fxpls%2Fabs_all.jsp%3Farnumber%3D6406640\n",
    "https://www.cs.cmu.edu/~nasmith/papers/yano+yogatama+smith.icwsm13.pdf\n",
    "https://www.kaggle.com/c/cir-prospect/prospector#202\n",
    "https://www.kaggle.com/c/cir-prospect/details/tipsheets\n",
    "https://www.ire.org/blog/ire-news/2012/11/05/data-science-meet-campaign-finance/\n",
    "http://data.stanford.edu/dime\n",
    "\n",
    "#### This one looks really promising!\n",
    "http://blog.kaggle.com/2012/11/05/winners-of-campaign-finance-investigative-reporting-prospect/ \n",
    "http://developer.nytimes.com/docs/campaign_finance_api/\n",
    "\n",
    "#### Examples of similar projects and visualizations\n",
    "http://www.aljazeera.com/indepth/interactive/syriadefections/2012730840348158.html\n",
    "http://kieranhealy.org/blog/archives/2013/06/09/using-metadata-to-find-paul-revere/"
   ]
  },
  {
   "cell_type": "code",
   "execution_count": null,
   "metadata": {
    "collapsed": true
   },
   "outputs": [],
   "source": []
  }
 ],
 "metadata": {
  "kernelspec": {
   "display_name": "Python 2",
   "language": "python",
   "name": "python2"
  },
  "language_info": {
   "codemirror_mode": {
    "name": "ipython",
    "version": 2
   },
   "file_extension": ".py",
   "mimetype": "text/x-python",
   "name": "python",
   "nbconvert_exporter": "python",
   "pygments_lexer": "ipython2",
   "version": "2.7.10"
  }
 },
 "nbformat": 4,
 "nbformat_minor": 0
}
