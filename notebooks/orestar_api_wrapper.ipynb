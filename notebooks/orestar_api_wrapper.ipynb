{
 "cells": [
  {
   "cell_type": "code",
   "execution_count": 3,
   "metadata": {
    "collapsed": false
   },
   "outputs": [],
   "source": []
  },
  {
   "cell_type": "code",
   "execution_count": 5,
   "metadata": {
    "collapsed": false
   },
   "outputs": [
    {
     "data": {
      "text/plain": [
       "str"
      ]
     },
     "execution_count": 5,
     "metadata": {},
     "output_type": "execute_result"
    }
   ],
   "source": [
    "payload = {'cneSearchButtonName':'search',&'cneSearchPageIdx':0&'cneSearchContributorTypeName':,&'cneSearchTranTypeName':&'\n",
    "'cneSearchTranSubTypeName=&cneSearchTranPurposeName=&cneSearchFilerCommitteeId=*&cneSearchFilerCommitteeTxt=&'\n",
    "'cneSearchFilerCommitteeTxtSearchType=C&cneSearchTranStartDate=&cneSearchTranEndDate=&cneSearchTranFiledStartDate=&'\n",
    "'cneSearchTranFiledEndDate=&transactionId=&cneSearchTranType=&cneSearchTranAmountFrom=&cneSearchTranAmountTo=&'\n",
    "'cneSearchContributorTxt=&cneSearchContributorTxtSearchType=C&cneSearchContributorType=&addressLine1=&city=&state=&'\n",
    "'zip=&zipPlusFour=&occupation=&employer=&employerCity=&employerState=}"
   ]
  },
  {
   "cell_type": "code",
   "execution_count": null,
   "metadata": {
    "collapsed": true
   },
   "outputs": [],
   "source": []
  }
 ],
 "metadata": {
  "language_info": {
   "codemirror_mode": {
    "name": "ipython",
    "version": 3
   },
   "file_extension": ".py",
   "mimetype": "text/x-python",
   "name": "python",
   "nbconvert_exporter": "python",
   "pygments_lexer": "ipython3",
   "version": "3.3.1"
  }
 },
 "nbformat": 4,
 "nbformat_minor": 0
}
